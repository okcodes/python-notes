{
 "cells": [
  {
   "cell_type": "markdown",
   "metadata": {},
   "source": [
    "# Functions\n",
    "\n",
    "Crear una funcion\n",
    "\n",
    "> This is a note"
   ]
  },
  {
   "cell_type": "code",
   "execution_count": null,
   "metadata": {},
   "outputs": [],
   "source": [
    "def hola():\n",
    "    print(\"Hello there!!!!!\")\n",
    "\n",
    "hola()"
   ]
  },
  {
   "cell_type": "markdown",
   "metadata": {},
   "source": [
    "# Function type()\n",
    "\n"
   ]
  },
  {
   "cell_type": "code",
   "execution_count": null,
   "metadata": {},
   "outputs": [],
   "source": [
    "my_number = 3\n",
    "my_string = \"hola\"\n",
    "my_tuple = (1, \"text\")\n",
    "my_list = [\"a\", \"b\", \"c\"]\n",
    "my_dictionary = {\"a\": 1}\n",
    "\n",
    "print(\"The type of a number is: \", type(my_number))\n",
    "print(\"The type of a string is: \", type(my_string))\n",
    "print(\"The type of a tuple is: \", type(my_tuple))\n",
    "print(\"The type of a list is: \", type(my_list))\n",
    "print(\"The type of a dictionary is: \", type(my_dictionary))\n"
   ]
  }
 ],
 "metadata": {
  "kernelspec": {
   "display_name": "Python 3",
   "language": "python",
   "name": "python3"
  },
  "language_info": {
   "codemirror_mode": {
    "name": "ipython",
    "version": 3
   },
   "file_extension": ".py",
   "mimetype": "text/x-python",
   "name": "python",
   "nbconvert_exporter": "python",
   "pygments_lexer": "ipython3",
   "version": "3.9.6"
  }
 },
 "nbformat": 4,
 "nbformat_minor": 2
}
